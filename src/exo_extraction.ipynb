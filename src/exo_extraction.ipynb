{
  "nbformat": 4,
  "nbformat_minor": 0,
  "metadata": {
    "colab": {
      "name": "exo_extraction.ipynb",
      "provenance": [],
      "collapsed_sections": [],
      "authorship_tag": "ABX9TyOpVEK7mZab/1/xBfjqug14",
      "include_colab_link": true
    },
    "kernelspec": {
      "name": "python3",
      "display_name": "Python 3"
    },
    "language_info": {
      "name": "python"
    }
  },
  "cells": [
    {
      "cell_type": "markdown",
      "metadata": {
        "id": "view-in-github",
        "colab_type": "text"
      },
      "source": [
        "<a href=\"https://colab.research.google.com/github/mdjamina/TextMining/blob/dev/src/exo_extraction.ipynb\" target=\"_parent\"><img src=\"https://colab.research.google.com/assets/colab-badge.svg\" alt=\"Open In Colab\"/></a>"
      ]
    },
    {
      "cell_type": "code",
      "source": [
        "import numpy as np"
      ],
      "metadata": {
        "id": "YeCW7pwXCScb"
      },
      "execution_count": null,
      "outputs": []
    },
    {
      "cell_type": "code",
      "source": [
        "\n",
        "\n",
        "#répertoire (chemin racine) du travail\n",
        "dir = \"/content/\"\n",
        "\n",
        "#nom du fichier des annotations des document (chemin absolu)\n",
        "filetsv = dir + \"Annotation-corpus-Cours2.tsv\"\n"
      ],
      "metadata": {
        "id": "_zBi2Fi3eM6U"
      },
      "execution_count": null,
      "outputs": []
    },
    {
      "cell_type": "code",
      "execution_count": null,
      "metadata": {
        "id": "GSeI-R45VVyi"
      },
      "outputs": [],
      "source": [
        "\n",
        "#initialisation du dict qui contient les annotations\n",
        "corpus = {}\n",
        "\n",
        "#chargement du fichier des annotation\n",
        "with open(filetsv, 'r') as ftsv:\n",
        "  for line in ftsv:\n",
        "\n",
        "    row = line.split(\"\\t\")\n",
        "    cls = row[1].strip()\n",
        "    doc_id = row[0].strip()\n",
        "    if cls == \"\":\n",
        "      continue\n",
        "    \n",
        "    if cls == \"Classe\":\n",
        "      continue\n",
        "    \n",
        "\n",
        "    if cls in corpus.keys():\n",
        "      corpus[cls].append(doc_id)\n",
        "    else:\n",
        "      corpus[cls] = [doc_id]\n",
        "\n",
        "\n",
        "\n"
      ]
    },
    {
      "cell_type": "code",
      "source": [
        "# échantillonnage des données\n",
        "# corpus d'entrainnement (80%)\n",
        "train ={}\n",
        "\n",
        "# corpus du dev (10%)\n",
        "dev = {}\n",
        "\n",
        "# corpus du teste (10%)\n",
        "test = {}\n",
        "\n",
        "\n",
        "for classe,lst_docs in corpus.items():\n",
        "  \n",
        "  #pour chaque classe\n",
        "  #calcul du nombre du document de 10%\n",
        "  n = round( len(lst_docs)*0.1) \n",
        "\n",
        "\n",
        "  #selection aléatoire des n doc_id \n",
        "  x = list( np.random.choice(lst_docs, n, replace=False))\n",
        "\n",
        "  #ajout de la classe et l'échantillon doc_id dans le corpus de dev\n",
        "  dev[classe] = x\n",
        "\n",
        "  # suppression des doc_id déjà selectionnés\n",
        "  lst_docs = list(set(lst_docs) - set(x))\n",
        "  \n",
        "  #selection aléatoire des n doc_id \n",
        "  x = list(np.random.choice(lst_docs, n, replace=False))\n",
        "\n",
        "  #ajout de la classe et l'échantillon doc_id dans le corpus de test\n",
        "  test[classe] = x\n",
        "\n",
        "  lst_docs = list(set(lst_docs) - set(x))\n",
        "\n",
        "\n",
        "  #ajout du reste des doc_ids (80%) dans le corpus train\n",
        "  train[classe] = lst_docs\n",
        "\n",
        "  "
      ],
      "metadata": {
        "id": "7rj4KgdXfcp2"
      },
      "execution_count": null,
      "outputs": []
    },
    {
      "cell_type": "code",
      "source": [
        "dev"
      ],
      "metadata": {
        "colab": {
          "base_uri": "https://localhost:8080/"
        },
        "id": "6ew7VbFLua0K",
        "outputId": "b9f100fa-d9ac-4125-e794-f3a18b730829"
      },
      "execution_count": null,
      "outputs": [
        {
          "output_type": "execute_result",
          "data": {
            "text/plain": [
              "{'culture': ['Doc184', 'Doc177', 'Doc178'],\n",
              " 'divers': ['Doc159', 'Doc151'],\n",
              " 'environnement': ['Doc188', 'Doc189'],\n",
              " 'international': ['Doc137', 'Doc104'],\n",
              " 'politique': ['Doc62', 'Doc69'],\n",
              " 'santé': ['Doc131', 'Doc112', 'Doc119'],\n",
              " 'sport': ['Doc21', 'Doc12'],\n",
              " 'économie': ['Doc39', 'Doc50']}"
            ]
          },
          "metadata": {},
          "execution_count": 20
        }
      ]
    },
    {
      "cell_type": "code",
      "source": [
        "test"
      ],
      "metadata": {
        "id": "AoCr_yZzvKRo",
        "colab": {
          "base_uri": "https://localhost:8080/"
        },
        "outputId": "dfa702f1-4ab3-44f6-888a-5c2ee79e4454"
      },
      "execution_count": null,
      "outputs": [
        {
          "output_type": "execute_result",
          "data": {
            "text/plain": [
              "{'culture': ['Doc175', 'Doc51', 'Doc183'],\n",
              " 'divers': ['Doc165', 'Doc153'],\n",
              " 'environnement': ['Doc7', 'Doc35'],\n",
              " 'international': ['Doc141', 'Doc107'],\n",
              " 'politique': ['Doc58', 'Doc5'],\n",
              " 'santé': ['Doc101', 'Doc115', 'Doc75'],\n",
              " 'sport': ['Doc37', 'Doc6'],\n",
              " 'économie': ['Doc28', 'Doc78']}"
            ]
          },
          "metadata": {},
          "execution_count": 21
        }
      ]
    },
    {
      "cell_type": "code",
      "source": [
        "for cls,doc_ids in dev.items():\n",
        "  for id in doc_ids:\n",
        "    pdoc = dir +\"corpus/\"+ id[3:]+\".txt\"\n",
        "    print(pdoc,\":\",cls)\n",
        "\n",
        "    #ici traitement du doc"
      ],
      "metadata": {
        "colab": {
          "base_uri": "https://localhost:8080/"
        },
        "id": "md-jiqiWxyPI",
        "outputId": "127ee8f5-69f8-4d36-b968-8a92300b41b7"
      },
      "execution_count": null,
      "outputs": [
        {
          "output_type": "stream",
          "name": "stdout",
          "text": [
            "/content/corpus/39.txt : économie\n",
            "/content/corpus/50.txt : économie\n",
            "/content/corpus/21.txt : sport\n",
            "/content/corpus/12.txt : sport\n",
            "/content/corpus/62.txt : politique\n",
            "/content/corpus/69.txt : politique\n",
            "/content/corpus/188.txt : environnement\n",
            "/content/corpus/189.txt : environnement\n",
            "/content/corpus/159.txt : divers\n",
            "/content/corpus/151.txt : divers\n",
            "/content/corpus/131.txt : santé\n",
            "/content/corpus/112.txt : santé\n",
            "/content/corpus/119.txt : santé\n",
            "/content/corpus/137.txt : international\n",
            "/content/corpus/104.txt : international\n",
            "/content/corpus/184.txt : culture\n",
            "/content/corpus/177.txt : culture\n",
            "/content/corpus/178.txt : culture\n"
          ]
        }
      ]
    },
    {
      "cell_type": "code",
      "source": [
        "def tokenization():\n",
        "  pass"
      ],
      "metadata": {
        "id": "sSTbFCabznTN"
      },
      "execution_count": null,
      "outputs": []
    },
    {
      "cell_type": "code",
      "source": [
        "def preprocessing(path_doc):\n",
        "\n",
        "  with open(path_doc,'r') as fdoc:\n",
        "    text = fdoc.read()\n",
        "\n",
        "  #tokenization\n",
        "  #nettoyage/stopswords/ponctuations\n",
        "  #lematisation/stema\n",
        "  #tagging/annotation/POS\n",
        "  pass\n",
        "\n"
      ],
      "metadata": {
        "id": "yGm1fQvSy_dh"
      },
      "execution_count": null,
      "outputs": []
    },
    {
      "cell_type": "code",
      "source": [
        "\n"
      ],
      "metadata": {
        "id": "TPDsk7-qyqHx"
      },
      "execution_count": null,
      "outputs": []
    }
  ]
}